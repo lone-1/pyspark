{
 "cells": [
  {
   "cell_type": "code",
   "execution_count": 2,
   "id": "7a60df87",
   "metadata": {},
   "outputs": [],
   "source": [
    "import findspark\n",
    "findspark.init()"
   ]
  },
  {
   "cell_type": "markdown",
   "id": "8930c9a3",
   "metadata": {},
   "source": [
    "# customer who have spend the most"
   ]
  },
  {
   "cell_type": "code",
   "execution_count": 3,
   "id": "a2ec16bd",
   "metadata": {},
   "outputs": [],
   "source": [
    "from pyspark.sql import SparkSession"
   ]
  },
  {
   "cell_type": "code",
   "execution_count": 4,
   "id": "ad5da9d4",
   "metadata": {},
   "outputs": [
    {
     "name": "stdout",
     "output_type": "stream",
     "text": [
      "22/10/22 21:23:14 WARN Utils: Your hostname, ashwins-MacBook-Air.local resolves to a loopback address: 127.0.0.1; using 192.168.29.199 instead (on interface en0)\n",
      "22/10/22 21:23:14 WARN Utils: Set SPARK_LOCAL_IP if you need to bind to another address\n"
     ]
    },
    {
     "name": "stderr",
     "output_type": "stream",
     "text": [
      "Setting default log level to \"WARN\".\n",
      "To adjust logging level use sc.setLogLevel(newLevel). For SparkR, use setLogLevel(newLevel).\n"
     ]
    },
    {
     "name": "stdout",
     "output_type": "stream",
     "text": [
      "22/10/22 21:23:14 WARN NativeCodeLoader: Unable to load native-hadoop library for your platform... using builtin-java classes where applicable\n",
      "22/10/22 21:23:14 WARN Utils: Service 'SparkUI' could not bind on port 4040. Attempting port 4041.\n",
      "22/10/22 21:23:14 WARN Utils: Service 'SparkUI' could not bind on port 4041. Attempting port 4042.\n"
     ]
    }
   ],
   "source": [
    "spark=SparkSession.builder\\\n",
    "                  .master(\"local\")\\\n",
    "                  .appName('new')\\\n",
    "                  .getOrCreate()\n",
    "sc=spark.sparkContext"
   ]
  },
  {
   "cell_type": "code",
   "execution_count": 6,
   "id": "126ae268",
   "metadata": {},
   "outputs": [],
   "source": [
    "rdd=sc.textFile('customerorders-201008-180523.csv')\n"
   ]
  },
  {
   "cell_type": "code",
   "execution_count": 7,
   "id": "a3a21356",
   "metadata": {},
   "outputs": [
    {
     "name": "stderr",
     "output_type": "stream",
     "text": [
      "\r",
      "[Stage 0:>                                                          (0 + 1) / 1]\r"
     ]
    },
    {
     "name": "stdout",
     "output_type": "stream",
     "text": [
      "('68', 6375.449999999997)\n",
      "('73', 6206.199999999999)\n",
      "('39', 6193.109999999999)\n",
      "('54', 6065.389999999999)\n",
      "('71', 5995.660000000003)\n",
      "('2', 5994.59)\n",
      "('97', 5977.189999999995)\n",
      "('46', 5963.109999999999)\n",
      "('42', 5696.840000000003)\n",
      "('59', 5642.89)\n",
      "('41', 5637.62)\n",
      "('0', 5524.949999999998)\n",
      "('8', 5517.240000000001)\n",
      "('85', 5503.43)\n",
      "('61', 5497.479999999998)\n",
      "('32', 5496.050000000004)\n",
      "('58', 5437.7300000000005)\n",
      "('63', 5415.150000000001)\n",
      "('15', 5413.510000000001)\n",
      "('6', 5397.879999999998)\n",
      "('92', 5379.280000000002)\n",
      "('43', 5368.83)\n",
      "('70', 5368.249999999999)\n",
      "('72', 5337.44)\n",
      "('34', 5330.8)\n",
      "('9', 5322.649999999999)\n",
      "('55', 5298.090000000002)\n",
      "('90', 5290.409999999998)\n",
      "('64', 5288.689999999996)\n",
      "('93', 5265.750000000001)\n",
      "('24', 5259.920000000003)\n",
      "('33', 5254.659999999998)\n",
      "('62', 5253.3200000000015)\n",
      "('26', 5250.4)\n",
      "('52', 5245.059999999999)\n",
      "('87', 5206.4)\n",
      "('40', 5186.429999999999)\n",
      "('35', 5155.419999999999)\n",
      "('11', 5152.290000000002)\n",
      "('65', 5140.3499999999985)\n",
      "('69', 5123.010000000001)\n",
      "('81', 5112.709999999999)\n",
      "('19', 5059.4299999999985)\n",
      "('25', 5057.610000000001)\n",
      "('60', 5040.709999999999)\n",
      "('17', 5032.679999999999)\n",
      "('29', 5032.529999999999)\n",
      "('22', 5019.449999999999)\n",
      "('28', 5000.709999999998)\n",
      "('30', 4990.72)\n",
      "('16', 4979.06)\n",
      "('51', 4975.22)\n",
      "('1', 4958.600000000001)\n",
      "('53', 4945.299999999999)\n",
      "('18', 4921.27)\n",
      "('27', 4915.889999999999)\n",
      "('86', 4908.81)\n",
      "('76', 4904.209999999999)\n",
      "('38', 4898.460000000002)\n",
      "('95', 4876.840000000002)\n",
      "('89', 4851.479999999999)\n",
      "('20', 4836.859999999999)\n",
      "('88', 4830.549999999999)\n",
      "('10', 4819.700000000001)\n",
      "('4', 4815.050000000002)\n",
      "('82', 4812.489999999998)\n",
      "('31', 4765.05)\n",
      "('44', 4756.8899999999985)\n",
      "('7', 4755.070000000001)\n",
      "('37', 4735.200000000002)\n",
      "('14', 4735.030000000001)\n",
      "('80', 4727.860000000001)\n",
      "('21', 4707.41)\n",
      "('56', 4701.019999999999)\n",
      "('66', 4681.919999999999)\n",
      "('12', 4664.589999999998)\n",
      "('3', 4659.63)\n",
      "('84', 4652.939999999999)\n",
      "('74', 4647.129999999999)\n",
      "('91', 4642.259999999999)\n",
      "('83', 4635.799999999997)\n",
      "('57', 4628.4)\n",
      "('5', 4561.069999999999)\n",
      "('78', 4524.509999999999)\n",
      "('50', 4517.27)\n",
      "('67', 4505.79)\n",
      "('94', 4475.569999999999)\n",
      "('49', 4394.599999999999)\n",
      "('48', 4384.33)\n",
      "('13', 4367.62)\n",
      "('77', 4327.729999999999)\n",
      "('47', 4316.299999999999)\n",
      "('98', 4297.260000000001)\n",
      "('36', 4278.049999999997)\n",
      "('75', 4178.500000000001)\n",
      "('99', 4172.289999999998)\n",
      "('23', 4042.6499999999987)\n",
      "('96', 3924.230000000001)\n",
      "('79', 3790.570000000001)\n",
      "('45', 3309.38)\n"
     ]
    },
    {
     "name": "stderr",
     "output_type": "stream",
     "text": [
      "\r",
      "                                                                                \r"
     ]
    }
   ],
   "source": [
    "rdd2 = rdd.map(lambda x: (x.split(\",\")[0],float(x.split(\",\")[2])))\n",
    "rdd3 = rdd2.reduceByKey(lambda x,y: x+y)\n",
    "rdd4 = rdd3.sortBy(lambda x: x[1],False)\n",
    "result = rdd4.collect()\n",
    "for a in result:\n",
    "    print(a)\n"
   ]
  },
  {
   "cell_type": "markdown",
   "id": "ef306e72",
   "metadata": {},
   "source": [
    "# movie rating"
   ]
  },
  {
   "cell_type": "code",
   "execution_count": 1,
   "id": "6404ee96",
   "metadata": {},
   "outputs": [],
   "source": [
    "import findspark\n",
    "findspark.init()"
   ]
  },
  {
   "cell_type": "code",
   "execution_count": 2,
   "id": "3c879c2d",
   "metadata": {},
   "outputs": [],
   "source": [
    "from pyspark.sql import SparkSession"
   ]
  },
  {
   "cell_type": "code",
   "execution_count": 3,
   "id": "1721b23b",
   "metadata": {},
   "outputs": [
    {
     "name": "stdout",
     "output_type": "stream",
     "text": [
      "22/10/23 07:42:51 WARN Utils: Your hostname, ashwins-MacBook-Air.local resolves to a loopback address: 127.0.0.1; using 192.168.29.199 instead (on interface en0)\n",
      "22/10/23 07:42:51 WARN Utils: Set SPARK_LOCAL_IP if you need to bind to another address\n"
     ]
    },
    {
     "name": "stderr",
     "output_type": "stream",
     "text": [
      "Setting default log level to \"WARN\".\n",
      "To adjust logging level use sc.setLogLevel(newLevel). For SparkR, use setLogLevel(newLevel).\n"
     ]
    },
    {
     "name": "stdout",
     "output_type": "stream",
     "text": [
      "22/10/23 07:42:51 WARN NativeCodeLoader: Unable to load native-hadoop library for your platform... using builtin-java classes where applicable\n"
     ]
    }
   ],
   "source": [
    "spark=SparkSession.builder\\\n",
    "                  .master(\"local\")\\\n",
    "                  .appName('new')\\\n",
    "                  .getOrCreate()\n",
    "sc=spark.sparkContext"
   ]
  },
  {
   "cell_type": "code",
   "execution_count": 4,
   "id": "1fee12dd",
   "metadata": {},
   "outputs": [
    {
     "name": "stderr",
     "output_type": "stream",
     "text": [
      "\r",
      "[Stage 0:>                                                          (0 + 1) / 1]\r"
     ]
    },
    {
     "name": "stdout",
     "output_type": "stream",
     "text": [
      "('3', 27145)\n",
      "('1', 6110)\n",
      "('2', 11370)\n",
      "('4', 34174)\n",
      "('5', 21201)\n"
     ]
    },
    {
     "name": "stderr",
     "output_type": "stream",
     "text": [
      "\r",
      "                                                                                \r"
     ]
    }
   ],
   "source": [
    "lines = sc.textFile(\"moviedata-201008-180523.data\")\n",
    "ratings = lines.map(lambda x: (x.split(\"\\t\")[2],1))\n",
    "result = ratings.reduceByKey(lambda x,y: x+y).collect()\n",
    "for a in result:\n",
    "    print(a)"
   ]
  },
  {
   "cell_type": "markdown",
   "id": "7784648f",
   "metadata": {},
   "source": [
    "# Average number of Friends"
   ]
  },
  {
   "cell_type": "code",
   "execution_count": 1,
   "id": "36ca78f3",
   "metadata": {},
   "outputs": [],
   "source": [
    "import findspark\n",
    "findspark.init()"
   ]
  },
  {
   "cell_type": "code",
   "execution_count": 2,
   "id": "72eba77b",
   "metadata": {},
   "outputs": [],
   "source": [
    "def parseLine(line):\n",
    "    fields = line.split(\"::\")\n",
    "    age = int(fields[2])\n",
    "    numFriends = int(fields[3])\n",
    "    return (age,numFriends)"
   ]
  },
  {
   "cell_type": "code",
   "execution_count": 3,
   "id": "1187eed2",
   "metadata": {},
   "outputs": [],
   "source": [
    "from pyspark.sql import SparkSession"
   ]
  },
  {
   "cell_type": "code",
   "execution_count": 4,
   "id": "2fd2b855",
   "metadata": {},
   "outputs": [
    {
     "name": "stdout",
     "output_type": "stream",
     "text": [
      "22/10/23 08:27:18 WARN Utils: Your hostname, ashwins-MacBook-Air.local resolves to a loopback address: 127.0.0.1; using 192.168.29.199 instead (on interface en0)\n",
      "22/10/23 08:27:18 WARN Utils: Set SPARK_LOCAL_IP if you need to bind to another address\n"
     ]
    },
    {
     "name": "stderr",
     "output_type": "stream",
     "text": [
      "Setting default log level to \"WARN\".\n",
      "To adjust logging level use sc.setLogLevel(newLevel). For SparkR, use setLogLevel(newLevel).\n"
     ]
    },
    {
     "name": "stdout",
     "output_type": "stream",
     "text": [
      "22/10/23 08:27:18 WARN NativeCodeLoader: Unable to load native-hadoop library for your platform... using builtin-java classes where applicable\n"
     ]
    }
   ],
   "source": [
    "spark=SparkSession.builder\\\n",
    "                  .master(\"local\")\\\n",
    "                  .appName('new1')\\\n",
    "                  .getOrCreate()\n",
    "sc=spark.sparkContext"
   ]
  },
  {
   "cell_type": "code",
   "execution_count": 5,
   "id": "3e349264",
   "metadata": {},
   "outputs": [],
   "source": [
    "lines = sc.textFile(\"friendsdata-201008-180523.csv\")\n"
   ]
  },
  {
   "cell_type": "code",
   "execution_count": 6,
   "id": "6edafefa",
   "metadata": {},
   "outputs": [],
   "source": [
    "rdd = lines.map(parseLine)# (33,385) input#(33,(385,1)) output#(33,(3000,5))#in scala we used to access the elements of tuple using x._1 , x._2#in python we access the elements of tuple using x[0],x[2]\n",
    "totalsByAge = rdd.mapValues(lambda x: (x,1)).reduceByKey(lambda x,y: (x[0]+y[0], x[1]+y[1]))\n",
    "averagesByAge = totalsByAge.mapValues(lambda x:x[0]/x[1])\n"
   ]
  },
  {
   "cell_type": "code",
   "execution_count": 7,
   "id": "434c49fe",
   "metadata": {},
   "outputs": [
    {
     "name": "stdout",
     "output_type": "stream",
     "text": [
      "PythonRDD[6] at RDD at PythonRDD.scala:53\n"
     ]
    }
   ],
   "source": [
    "print(rdd)"
   ]
  },
  {
   "cell_type": "code",
   "execution_count": 7,
   "id": "f9456d4a",
   "metadata": {},
   "outputs": [
    {
     "name": "stderr",
     "output_type": "stream",
     "text": [
      "                                                                                \r"
     ]
    }
   ],
   "source": [
    "result = averagesByAge.collect()\n"
   ]
  },
  {
   "cell_type": "code",
   "execution_count": 8,
   "id": "31cd2129",
   "metadata": {},
   "outputs": [
    {
     "name": "stdout",
     "output_type": "stream",
     "text": [
      "(33, 325.3333333333333)\n",
      "(26, 242.05882352941177)\n",
      "(55, 295.53846153846155)\n",
      "(40, 250.8235294117647)\n",
      "(68, 269.6)\n",
      "(59, 220.0)\n",
      "(37, 249.33333333333334)\n",
      "(54, 278.0769230769231)\n",
      "(38, 193.53333333333333)\n",
      "(27, 228.125)\n",
      "(53, 222.85714285714286)\n",
      "(57, 258.8333333333333)\n",
      "(56, 306.6666666666667)\n",
      "(43, 230.57142857142858)\n",
      "(36, 246.6)\n",
      "(22, 206.42857142857142)\n",
      "(35, 211.625)\n",
      "(45, 309.53846153846155)\n",
      "(60, 202.71428571428572)\n",
      "(67, 214.625)\n",
      "(19, 213.27272727272728)\n",
      "(30, 235.8181818181818)\n",
      "(51, 302.14285714285717)\n",
      "(25, 197.45454545454547)\n",
      "(21, 350.875)\n",
      "(42, 303.5)\n",
      "(49, 184.66666666666666)\n",
      "(48, 281.4)\n",
      "(50, 254.6)\n",
      "(39, 169.28571428571428)\n",
      "(32, 207.9090909090909)\n",
      "(58, 116.54545454545455)\n",
      "(64, 281.3333333333333)\n",
      "(31, 267.25)\n",
      "(52, 340.6363636363636)\n",
      "(24, 233.8)\n",
      "(20, 165.0)\n",
      "(62, 220.76923076923077)\n",
      "(41, 268.55555555555554)\n",
      "(44, 282.1666666666667)\n",
      "(69, 235.2)\n",
      "(65, 298.2)\n",
      "(61, 256.22222222222223)\n",
      "(28, 209.1)\n",
      "(66, 276.44444444444446)\n",
      "(46, 223.69230769230768)\n",
      "(29, 215.91666666666666)\n",
      "(18, 343.375)\n",
      "(47, 233.22222222222223)\n",
      "(34, 245.5)\n",
      "(63, 384.0)\n",
      "(23, 246.3)\n"
     ]
    }
   ],
   "source": [
    "for i in result:\n",
    "    print(i)"
   ]
  },
  {
   "cell_type": "markdown",
   "id": "ed0c5afb",
   "metadata": {},
   "source": [
    "# ACCUMULATOR"
   ]
  },
  {
   "cell_type": "code",
   "execution_count": null,
   "id": "b2bf4ca0",
   "metadata": {},
   "outputs": [],
   "source": []
  }
 ],
 "metadata": {
  "kernelspec": {
   "display_name": "Python 3 (ipykernel)",
   "language": "python",
   "name": "python3"
  },
  "language_info": {
   "codemirror_mode": {
    "name": "ipython",
    "version": 3
   },
   "file_extension": ".py",
   "mimetype": "text/x-python",
   "name": "python",
   "nbconvert_exporter": "python",
   "pygments_lexer": "ipython3",
   "version": "3.9.13"
  }
 },
 "nbformat": 4,
 "nbformat_minor": 5
}
